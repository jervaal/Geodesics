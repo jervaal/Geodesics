{
 "cells": [
  {
   "cell_type": "code",
   "execution_count": 23,
   "id": "f1d5c45a",
   "metadata": {},
   "outputs": [],
   "source": [
    "import qutip as qt\n",
    "from qutip import Bloch, QobjEvo, basis, sesolve, sigmay, sigmaz, Qobj\n",
    "import numpy as np\n",
    "import math\n",
    "import cmath\n",
    "import matplotlib.pyplot as plt\n",
    "from scipy.constants import h, e\n",
    "from qiskit_nature.units import DistanceUnit\n",
    "from qiskit_nature.second_q.drivers import PySCFDriver\n",
    "from qiskit_nature.second_q.mappers import JordanWignerMapper\n",
    "from qiskit_nature.second_q.operators import FermionicOp\n",
    "from qiskit_nature.second_q.transformers import FreezeCoreTransformer, ActiveSpaceTransformer\n",
    "# Operadores de Pauli en el qubit k\n",
    "def SX(N, k):\n",
    "    \"\"\"Create a sigma_X operator at position k from\n",
    "    a Hilbert space of N qubits\n",
    "    \"\"\"\n",
    "    L = [qt.qeye(2)]*N \n",
    "    L[k] = qt.sigmax()\n",
    "    return qt.tensor(L)\n",
    "\n",
    "def SY(N, k):\n",
    "    \"\"\"Create a sigma_Y operator at position k from\n",
    "    a Hilbert space of N qubits\n",
    "    \"\"\"\n",
    "    L = [qt.qeye(2)]*N\n",
    "    L[k] = qt.sigmay()\n",
    "    return qt.tensor(L)\n",
    "\n",
    "def SZ(N, k):\n",
    "    \"\"\"Create a sigma_Z operator at position k from\n",
    "    a Hilbert space of N qubits\n",
    "    \"\"\"\n",
    "    L = [qt.qeye(2)]*N\n",
    "    L[k] = qt.sigmaz()\n",
    "    return qt.tensor(L)\n",
    "\n",
    "\n",
    "from qutip import create, destroy\n",
    "\n",
    "def Sm(N, k):\n",
    "    \"\"\"Create a sigma_X operator at position k from\n",
    "    a Hilbert space of N qubits\n",
    "    \"\"\"\n",
    "    L = [qt.qeye(2)]*N \n",
    "    L[k] = destroy(2)\n",
    "    return qt.tensor(L)\n",
    "\n",
    "def Sp(N, k):\n",
    "    \"\"\"Create a sigma_X operator at position k from\n",
    "    a Hilbert space of N qubits\n",
    "    \"\"\"\n",
    "    L = [qt.qeye(2)]*N \n",
    "    L[k] = create(2)\n",
    "    return qt.tensor(L)\n",
    "\n"
   ]
  },
  {
   "cell_type": "code",
   "execution_count": 24,
   "id": "bec7f681",
   "metadata": {},
   "outputs": [],
   "source": [
    "import qutip as qt\n",
    "import numpy as np\n",
    "\n",
    "def Rz_qubit(N, k, angle):\n",
    "    \"\"\"Aplica una rotación Rz al qubit k en un sistema de N qubits.\"\"\"\n",
    "    rz = qt.Qobj([[np.exp(-1j * angle / 2), 0], [0, np.exp(1j * angle / 2)]])\n",
    "    ops = [qt.qeye(2)] * N\n",
    "    ops[k] = rz\n",
    "    return qt.tensor(ops)\n",
    "\n",
    "def SX_qubit(N, k): # el raiz de X\n",
    "    \"\"\"Aplica la raíz de X al qubit k en un sistema de N qubits.\"\"\"\n",
    "    sx = qt.Qobj([[0.5*(1+1j), 0.5*(1-1j)], [0.5*(1-1j), 0.5*(1+1j)]])\n",
    "    ops = [qt.qeye(2)] * N\n",
    "    ops[k] = sx\n",
    "    return qt.tensor(ops)\n",
    "\n",
    "def ECR(N, control, target):\n",
    "    \"\"\"\n",
    "    Create the ECR gate acting on 'control' and 'target' qubits in an N-qubit system.\n",
    "    Definition used: ECR = (I⊗X - X⊗Y)/sqrt(2)\n",
    "    \"\"\"\n",
    "    term1 = qt.tensor([qt.qeye(2)] * N)\n",
    "    term2 = qt.tensor([qt.qeye(2)] * N)\n",
    "\n",
    "    # Term I⊗X\n",
    "    term1 = qt.qeye(2**N)\n",
    "    L = [qt.qeye(2)] * N\n",
    "    L[target] = qt.sigmax()\n",
    "    term1 = qt.tensor(L)\n",
    "\n",
    "    # Term X⊗Y\n",
    "    L = [qt.qeye(2)] * N\n",
    "    L[control] = qt.sigmax()\n",
    "    L[target] = qt.sigmay()\n",
    "    term2 = qt.tensor(L)\n",
    "\n",
    "    # Final ECR operator\n",
    "    ECR_gate = (term1 - term2) / np.sqrt(2)\n",
    "    return ECR_gate\n",
    "\n",
    "# Ejemplo de uso\n",
    "N = 2  # Dos qubits\n",
    "angle = np.pi/2  # Un ángulo de ejemplo\n",
    "\n",
    "rz_0 = Rz_qubit(N, 0, angle)\n",
    "sx_1 = SX_qubit(N, 1)\n",
    "ecr_0_1 = ECR(N, 0, 1)\n",
    "ecr_1_0 = ECR(N, 1, 0)\n",
    "\n",
    "\n",
    "def d_FS(psi : Qobj, phi : Qobj) -> Qobj:\n",
    "    return np.sqrt( 2 - 2 * np.abs(psi.dag() * phi) ) \n",
    "\n"
   ]
  },
  {
   "cell_type": "code",
   "execution_count": 25,
   "id": "026a2afc",
   "metadata": {},
   "outputs": [],
   "source": [
    "s0 = qt.basis(2, 0)\n",
    "s1 = qt.basis(2, 1)\n",
    "\n",
    "Bell = (qt.tensor(s0, s0) + qt.tensor(s1, s1)).unit()\n",
    "Bell2 = (qt.tensor(s0, s1) + qt.tensor(s1, s0)).unit()\n",
    "\n",
    "psi_i = qt.tensor(s0, s0)  # Estado inicial\n",
    "psi_f = Bell2  # Estado final\n",
    "theta = np.arccos(np.real(psi_i.dag() * psi_f))  # Calcula el ángulo entre los dos estados\n",
    "\n",
    "tau = np.linspace(0, theta, 100)  # Tiempo de evolución\n",
    "\n",
    "def Gamma(psi_i, psi_f, tau):\n",
    "    theta = np.arccos(np.real(psi_i.dag() * psi_f)) \n",
    "    psi_t = (psi_f - np.cos(theta)*psi_i) / np.sin(theta)\n",
    "    Psi = np.cos(tau)*psi_i + np.sin(tau)*psi_t \n",
    "    return Psi \n",
    "\n",
    "# n = 50\n",
    "# tau = np.linspace(0, theta, n)"
   ]
  },
  {
   "cell_type": "code",
   "execution_count": 26,
   "id": "76f9c4c3",
   "metadata": {},
   "outputs": [],
   "source": [
    "n = 3\n",
    "s0 = qt.basis(2, 0)\n",
    "s1 = qt.basis(2, 1)\n",
    "\n",
    "Bell1 = (qt.tensor(s0, s0) + qt.tensor(s1, s1)).unit()\n",
    "Bell2 = (qt.tensor(s0, s0) - qt.tensor(s1, s1)).unit()\n",
    "Bell3 = (qt.tensor(s0, s1) + qt.tensor(s1, s0)).unit()\n",
    "Bell4 = (qt.tensor(s0, s1) - qt.tensor(s1, s0)).unit()\n",
    "\n",
    "psi_i = qt.tensor(s0, s0)  # Estado inicial\n",
    "psi_f = Bell1  # Estado final\n",
    "theta = np.arccos(np.real(psi_i.dag() * psi_f))  # Calcula el ángulo entre los dos estados\n",
    "\n",
    "tau = np.linspace(0, theta, n)\n",
    "Gamma_tau = [Gamma(psi_i, psi_f, ti) for ti in tau]\n",
    "N = 2\n",
    "\n",
    "OP = [SX_qubit(N, 0), SX_qubit(N, 1), ECR(N, 0, 1), ECR(N, 1, 0), SX(N,0), SX(N,1)] #the last one we shoul call it X only\n",
    "\n",
    "\n"
   ]
  },
  {
   "cell_type": "markdown",
   "id": "05e44d6b",
   "metadata": {},
   "source": []
  },
  {
   "cell_type": "code",
   "execution_count": 27,
   "id": "89e9b1a6",
   "metadata": {},
   "outputs": [
    {
     "data": {
      "text/plain": [
       "2.1073424255447017e-08"
      ]
     },
     "execution_count": 27,
     "metadata": {},
     "output_type": "execute_result"
    }
   ],
   "source": [
    "from scipy.optimize import minimize_scalar\n",
    "def find_min_distance(psi_i, Gamma_tau_i, N=2):\n",
    "\n",
    "    distances = []\n",
    "\n",
    "    # Aplicar cada operador fijo\n",
    "    for op in OP:\n",
    "        psi_new = op * psi_i\n",
    "        overlap = np.clip(np.real((psi_new.dag() * Gamma_tau_i)), -1.0, 1.0)\n",
    "        theta = np.arccos(overlap)\n",
    "        distances.append(theta)\n",
    "\n",
    "    # Ahora agregamos el Rz optimizado\n",
    "    def objective1(angle):\n",
    "        rz_op = Rz_qubit(N, 0, angle)  # Por ejemplo, actuando en qubit 0\n",
    "        psi_new = rz_op * psi_i\n",
    "        overlap = np.clip(np.real((psi_new.dag() * Gamma_tau_i)), -1.0, 1.0)\n",
    "        return np.arccos(overlap)\n",
    "    \n",
    "    \n",
    "    def objective2(angle):\n",
    "        rz_op = Rz_qubit(N, 1, angle)  # Por ejemplo, actuando en qubit 0\n",
    "        psi_new = rz_op * psi_i\n",
    "        overlap = np.clip(np.real((psi_new.dag() * Gamma_tau_i)), -1.0, 1.0)\n",
    "        return np.arccos(overlap)\n",
    "    \n",
    "    #result1 = minimize_scalar(objective1, bounds=(0, 2*np.pi), method='bounded')\n",
    "    #distances.append(result1.fun)\n",
    "    # OP.append(Rz_qubit(N, 0, result1.x))\n",
    "\n",
    "    # result2 = minimize_scalar(objective1, bounds=(0, 2*np.pi), method='bounded')\n",
    "    # distances.append(result2.fun)\n",
    "    # OP.append(Rz_qubit(N, 1, result2.x))\n",
    "\n",
    "    min_distance = min(distances)\n",
    "    min_index = np.argmin(distances)\n",
    "    \n",
    "    return min_distance, OP[min_index], min_index\n",
    "\n",
    "n = 4\n",
    "theta = np.arccos(np.real(psi_i.dag() * psi_f))  # Calcula el ángulo entre los dos estados\n",
    "\n",
    "tau = np.linspace(0, theta, n)\n",
    "Gamma_tau = [Gamma(psi_i, psi_f, ti) for ti in tau]\n",
    "\n",
    "\n",
    "Psi0 = psi_i\n",
    "Op_real = []\n",
    "min_distances= []\n",
    "index_real = []\n",
    "for i in range(len(Gamma_tau)-1):\n",
    "    Geodesic = find_min_distance(Psi0, Gamma_tau[i+1])\n",
    "    min_distances.append(Geodesic[0])\n",
    "    index_real.append(Geodesic[2])\n",
    "\n",
    "    O = Geodesic[1]\n",
    "    Op_real.append(O)\n",
    "    Psi0 = O * Psi0\n",
    "\n",
    "theta_final = np.arccos(np.real(Psi0.dag() * psi_f))\n",
    "theta_final"
   ]
  },
  {
   "cell_type": "code",
   "execution_count": 28,
   "id": "3832548d",
   "metadata": {},
   "outputs": [
    {
     "data": {
      "text/latex": [
       "Quantum object: dims=[[2, 2], [1, 1]], shape=(4, 1), type='ket', dtype=Dense$$\\left(\\begin{array}{cc}0.707\\\\0\\\\0\\\\0.707\\end{array}\\right)$$"
      ],
      "text/plain": [
       "Quantum object: dims=[[2, 2], [1, 1]], shape=(4, 1), type='ket', dtype=Dense\n",
       "Qobj data =\n",
       "[[0.70710678]\n",
       " [0.        ]\n",
       " [0.        ]\n",
       " [0.70710678]]"
      ]
     },
     "execution_count": 28,
     "metadata": {},
     "output_type": "execute_result"
    }
   ],
   "source": [
    "Psi0"
   ]
  },
  {
   "cell_type": "code",
   "execution_count": 29,
   "id": "6723df17",
   "metadata": {},
   "outputs": [
    {
     "data": {
      "text/latex": [
       "Quantum object: dims=[[2, 2], [1, 1]], shape=(4, 1), type='ket', dtype=Dense$$\\left(\\begin{array}{cc}0.707\\\\0\\\\0\\\\0.707\\end{array}\\right)$$"
      ],
      "text/plain": [
       "Quantum object: dims=[[2, 2], [1, 1]], shape=(4, 1), type='ket', dtype=Dense\n",
       "Qobj data =\n",
       "[[0.70710678]\n",
       " [0.        ]\n",
       " [0.        ]\n",
       " [0.70710678]]"
      ]
     },
     "execution_count": 29,
     "metadata": {},
     "output_type": "execute_result"
    }
   ],
   "source": [
    "psi_f"
   ]
  },
  {
   "cell_type": "code",
   "execution_count": 30,
   "id": "88829cf4",
   "metadata": {},
   "outputs": [
    {
     "name": "stdout",
     "output_type": "stream",
     "text": [
      "2.1073424255447017e-08\n",
      "Número de pasos: 3\n"
     ]
    }
   ],
   "source": [
    "## ADAPT geodesic\n",
    "N = 2 #numero de qubits\n",
    "OP = [SX_qubit(N, 0), SX_qubit(N, 1), ECR(N, 0, 1), ECR(N, 1, 0), SX(N,0), SX(N,1)]\n",
    "n = 2\n",
    "psi_i = qt.tensor(s0, s0)  # Estado inicial\n",
    "psi_f = Bell1 # Bell2 no funciona, los otros si\n",
    "while True:\n",
    "    \n",
    "    theta = np.arccos(np.real(psi_i.dag() * psi_f))  # Calcula el ángulo entre los dos estados\n",
    "\n",
    "    tau = np.linspace(0, theta, n)\n",
    "    Gamma_tau = [Gamma(psi_i, psi_f, ti) for ti in tau]\n",
    "\n",
    "\n",
    "    Psi0 = psi_i\n",
    "    Op_real = []\n",
    "    min_distances= []\n",
    "    index_real = []\n",
    "    for i in range(len(Gamma_tau)-1):\n",
    "        Geodesic = find_min_distance(Psi0, Gamma_tau[i+1])\n",
    "        min_distances.append(Geodesic[0])\n",
    "        index_real.append(Geodesic[2])\n",
    "\n",
    "        O = Geodesic[1]\n",
    "        Op_real.append(O)\n",
    "        Psi0 = O * Psi0\n",
    "\n",
    "    theta_final = np.arccos(np.real(Psi0.dag() * psi_f))\n",
    "\n",
    "    if theta_final < 1e-5:\n",
    "        break\n",
    "\n",
    "    n = n + 1\n",
    "\n",
    "    # if n > 10:\n",
    "    #     angle = np.pi\n",
    "    #     OP = [SX_qubit(N, 0), SX_qubit(N, 1), ECR(N, 0, 1), ECR(N, 1, 0), SX(N,0), SX(N,1), Rz_qubit(N, 0, angle), Rz_qubit(N, 1, angle)]\n",
    "\n",
    "print(theta_final)\n",
    "print(\"Número de pasos:\", n-1)    "
   ]
  },
  {
   "cell_type": "code",
   "execution_count": 12,
   "id": "db120789",
   "metadata": {},
   "outputs": [
    {
     "data": {
      "text/plain": [
       "[0, 3, 0]"
      ]
     },
     "execution_count": 12,
     "metadata": {},
     "output_type": "execute_result"
    }
   ],
   "source": [
    "index_real"
   ]
  },
  {
   "cell_type": "code",
   "execution_count": 13,
   "id": "157971b3",
   "metadata": {},
   "outputs": [
    {
     "data": {
      "text/latex": [
       "Quantum object: dims=[[2, 2], [1, 1]], shape=(4, 1), type='ket', dtype=Dense$$\\left(\\begin{array}{cc}1\\\\0\\\\0\\\\0\\end{array}\\right)$$"
      ],
      "text/plain": [
       "Quantum object: dims=[[2, 2], [1, 1]], shape=(4, 1), type='ket', dtype=Dense\n",
       "Qobj data =\n",
       "[[1.]\n",
       " [0.]\n",
       " [0.]\n",
       " [0.]]"
      ]
     },
     "execution_count": 13,
     "metadata": {},
     "output_type": "execute_result"
    }
   ],
   "source": [
    "SX_qubit(N, 0)*SX(N,0)*SX_qubit(N, 0)*psi_i\n"
   ]
  },
  {
   "cell_type": "code",
   "execution_count": null,
   "id": "2c186a7f",
   "metadata": {},
   "outputs": [
    {
     "ename": "KeyboardInterrupt",
     "evalue": "",
     "output_type": "error",
     "traceback": [
      "\u001b[0;31m---------------------------------------------------------------------------\u001b[0m",
      "\u001b[0;31mKeyboardInterrupt\u001b[0m                         Traceback (most recent call last)",
      "Cell \u001b[0;32mIn[31], line 34\u001b[0m\n\u001b[1;32m     32\u001b[0m index_real \u001b[38;5;241m=\u001b[39m []\n\u001b[1;32m     33\u001b[0m \u001b[38;5;28;01mfor\u001b[39;00m i \u001b[38;5;129;01min\u001b[39;00m \u001b[38;5;28mrange\u001b[39m(\u001b[38;5;28mlen\u001b[39m(Gamma_tau)\u001b[38;5;241m-\u001b[39m\u001b[38;5;241m1\u001b[39m):\n\u001b[0;32m---> 34\u001b[0m     Geodesic \u001b[38;5;241m=\u001b[39m \u001b[43mfind_min_distance\u001b[49m\u001b[43m(\u001b[49m\u001b[43mPsi0\u001b[49m\u001b[43m,\u001b[49m\u001b[43m \u001b[49m\u001b[43mGamma_tau\u001b[49m\u001b[43m[\u001b[49m\u001b[43mi\u001b[49m\u001b[38;5;241;43m+\u001b[39;49m\u001b[38;5;241;43m1\u001b[39;49m\u001b[43m]\u001b[49m\u001b[43m)\u001b[49m\n\u001b[1;32m     35\u001b[0m     min_distances\u001b[38;5;241m.\u001b[39mappend(Geodesic[\u001b[38;5;241m0\u001b[39m])\n\u001b[1;32m     36\u001b[0m     index_real\u001b[38;5;241m.\u001b[39mappend(Geodesic[\u001b[38;5;241m2\u001b[39m])\n",
      "Cell \u001b[0;32mIn[27], line 9\u001b[0m, in \u001b[0;36mfind_min_distance\u001b[0;34m(psi_i, Gamma_tau_i, N)\u001b[0m\n\u001b[1;32m      7\u001b[0m \u001b[38;5;28;01mfor\u001b[39;00m op \u001b[38;5;129;01min\u001b[39;00m OP:\n\u001b[1;32m      8\u001b[0m     psi_new \u001b[38;5;241m=\u001b[39m op \u001b[38;5;241m*\u001b[39m psi_i\n\u001b[0;32m----> 9\u001b[0m     overlap \u001b[38;5;241m=\u001b[39m np\u001b[38;5;241m.\u001b[39mclip(np\u001b[38;5;241m.\u001b[39mreal((\u001b[43mpsi_new\u001b[49m\u001b[38;5;241;43m.\u001b[39;49m\u001b[43mdag\u001b[49m\u001b[43m(\u001b[49m\u001b[43m)\u001b[49m \u001b[38;5;241m*\u001b[39m Gamma_tau_i)), \u001b[38;5;241m-\u001b[39m\u001b[38;5;241m1.0\u001b[39m, \u001b[38;5;241m1.0\u001b[39m)\n\u001b[1;32m     10\u001b[0m     theta \u001b[38;5;241m=\u001b[39m np\u001b[38;5;241m.\u001b[39marccos(overlap)\n\u001b[1;32m     11\u001b[0m     distances\u001b[38;5;241m.\u001b[39mappend(theta)\n",
      "File \u001b[0;32m~/workspace/.venv/lib/python3.11/site-packages/qutip/core/qobj.py:602\u001b[0m, in \u001b[0;36mQobj.dag\u001b[0;34m(self)\u001b[0m\n\u001b[1;32m    599\u001b[0m \u001b[38;5;28;01mif\u001b[39;00m \u001b[38;5;28mself\u001b[39m\u001b[38;5;241m.\u001b[39m_isherm:\n\u001b[1;32m    600\u001b[0m     \u001b[38;5;28;01mreturn\u001b[39;00m \u001b[38;5;28mself\u001b[39m\u001b[38;5;241m.\u001b[39mcopy()\n\u001b[1;32m    601\u001b[0m \u001b[38;5;28;01mreturn\u001b[39;00m Qobj(_data\u001b[38;5;241m.\u001b[39madjoint(\u001b[38;5;28mself\u001b[39m\u001b[38;5;241m.\u001b[39m_data),\n\u001b[0;32m--> 602\u001b[0m             dims\u001b[38;5;241m=\u001b[39m\u001b[43mDimensions\u001b[49m\u001b[43m(\u001b[49m\u001b[38;5;28;43mself\u001b[39;49m\u001b[38;5;241;43m.\u001b[39;49m\u001b[43m_dims\u001b[49m\u001b[43m[\u001b[49m\u001b[38;5;241;43m0\u001b[39;49m\u001b[43m]\u001b[49m\u001b[43m,\u001b[49m\u001b[43m \u001b[49m\u001b[38;5;28;43mself\u001b[39;49m\u001b[38;5;241;43m.\u001b[39;49m\u001b[43m_dims\u001b[49m\u001b[43m[\u001b[49m\u001b[38;5;241;43m1\u001b[39;49m\u001b[43m]\u001b[49m\u001b[43m)\u001b[49m,\n\u001b[1;32m    603\u001b[0m             isherm\u001b[38;5;241m=\u001b[39m\u001b[38;5;28mself\u001b[39m\u001b[38;5;241m.\u001b[39m_isherm,\n\u001b[1;32m    604\u001b[0m             isunitary\u001b[38;5;241m=\u001b[39m\u001b[38;5;28mself\u001b[39m\u001b[38;5;241m.\u001b[39m_isunitary,\n\u001b[1;32m    605\u001b[0m             copy\u001b[38;5;241m=\u001b[39m\u001b[38;5;28;01mFalse\u001b[39;00m)\n",
      "File \u001b[0;32m~/workspace/.venv/lib/python3.11/site-packages/qutip/core/dimensions.py:784\u001b[0m, in \u001b[0;36mMetaDims.__call__\u001b[0;34m(cls, rep, *args)\u001b[0m\n\u001b[1;32m    781\u001b[0m \u001b[38;5;28;01melif\u001b[39;00m \u001b[38;5;28mlen\u001b[39m(args) \u001b[38;5;241m!=\u001b[39m \u001b[38;5;241m2\u001b[39m:\n\u001b[1;32m    782\u001b[0m     \u001b[38;5;28;01mraise\u001b[39;00m \u001b[38;5;167;01mNotImplementedError\u001b[39;00m(\u001b[38;5;124m'\u001b[39m\u001b[38;5;124mNo Dual, Ket, Bra...\u001b[39m\u001b[38;5;124m'\u001b[39m, args)\n\u001b[1;32m    783\u001b[0m \u001b[38;5;28;01melif\u001b[39;00m (\n\u001b[0;32m--> 784\u001b[0m     \u001b[43msettings\u001b[49m\u001b[38;5;241;43m.\u001b[39;49m\u001b[43mcore\u001b[49m\u001b[43m[\u001b[49m\u001b[38;5;124;43m\"\u001b[39;49m\u001b[38;5;124;43mauto_tidyup_dims\u001b[39;49m\u001b[38;5;124;43m\"\u001b[39;49m\u001b[43m]\u001b[49m\n\u001b[1;32m    785\u001b[0m     \u001b[38;5;129;01mand\u001b[39;00m args[\u001b[38;5;241m0\u001b[39m] \u001b[38;5;241m==\u001b[39m args[\u001b[38;5;241m1\u001b[39m] \u001b[38;5;241m==\u001b[39m Field()\n\u001b[1;32m    786\u001b[0m ):\n\u001b[1;32m    787\u001b[0m     \u001b[38;5;28;01mreturn\u001b[39;00m Field()\n\u001b[1;32m    789\u001b[0m \u001b[38;5;28;01mif\u001b[39;00m args \u001b[38;5;129;01mnot\u001b[39;00m \u001b[38;5;129;01min\u001b[39;00m \u001b[38;5;28mcls\u001b[39m\u001b[38;5;241m.\u001b[39m_stored_dims:\n",
      "File \u001b[0;32m~/workspace/.venv/lib/python3.11/site-packages/qutip/core/options.py:186\u001b[0m, in \u001b[0;36mCoreOptions.__getitem__\u001b[0;34m(self, key)\u001b[0m\n\u001b[1;32m    183\u001b[0m \u001b[38;5;129m@overload\u001b[39m\n\u001b[1;32m    184\u001b[0m \u001b[38;5;28;01mdef\u001b[39;00m \u001b[38;5;21m__getitem__\u001b[39m(\u001b[38;5;28mself\u001b[39m, key: Literal[\u001b[38;5;124m\"\u001b[39m\u001b[38;5;124mdefault_dtype\u001b[39m\u001b[38;5;124m\"\u001b[39m]) \u001b[38;5;241m-\u001b[39m\u001b[38;5;241m>\u001b[39m \u001b[38;5;28mstr\u001b[39m \u001b[38;5;241m|\u001b[39m \u001b[38;5;28;01mNone\u001b[39;00m: \u001b[38;5;241m.\u001b[39m\u001b[38;5;241m.\u001b[39m\u001b[38;5;241m.\u001b[39m\n\u001b[0;32m--> 186\u001b[0m \u001b[38;5;28;01mdef\u001b[39;00m \u001b[38;5;21m__getitem__\u001b[39m(\u001b[38;5;28mself\u001b[39m, key: \u001b[38;5;28mstr\u001b[39m) \u001b[38;5;241m-\u001b[39m\u001b[38;5;241m>\u001b[39m Any:\n\u001b[1;32m    187\u001b[0m     \u001b[38;5;66;03m# Let the dict catch the KeyError\u001b[39;00m\n\u001b[1;32m    188\u001b[0m     \u001b[38;5;28;01mreturn\u001b[39;00m \u001b[38;5;28mself\u001b[39m\u001b[38;5;241m.\u001b[39moptions[key]\n\u001b[1;32m    190\u001b[0m \u001b[38;5;129m@overload\u001b[39m\n\u001b[1;32m    191\u001b[0m \u001b[38;5;28;01mdef\u001b[39;00m \u001b[38;5;21m__setitem__\u001b[39m(\n\u001b[1;32m    192\u001b[0m     \u001b[38;5;28mself\u001b[39m,\n\u001b[1;32m    193\u001b[0m     key: Literal[\u001b[38;5;124m\"\u001b[39m\u001b[38;5;124mauto_tidyup\u001b[39m\u001b[38;5;124m\"\u001b[39m, \u001b[38;5;124m\"\u001b[39m\u001b[38;5;124mauto_tidyup_dims\u001b[39m\u001b[38;5;124m\"\u001b[39m, \u001b[38;5;124m\"\u001b[39m\u001b[38;5;124mauto_real_casting\u001b[39m\u001b[38;5;124m\"\u001b[39m],\n\u001b[1;32m    194\u001b[0m     value: \u001b[38;5;28mbool\u001b[39m,\n",
      "\u001b[0;31mKeyboardInterrupt\u001b[0m: "
     ]
    }
   ],
   "source": [
    "#Adapt geodesic 3 qubits\n",
    "W = (qt.tensor(s1, s0, s0) + qt.tensor(s0, s1, s0) + qt.tensor(s0, s0, s1)).unit()\n",
    "GHZ = (qt.tensor(s0, s0, s0) + qt.tensor(s1, s1, s1)).unit()\n",
    "# Nuevos operadores OP para 3 qubits\n",
    "\n",
    "\n",
    "def d_FS(psi : Qobj, phi : Qobj) -> Qobj:\n",
    "    return np.sqrt( 2 - 2 * np.abs(psi.dag() * phi) ) \n",
    "\n",
    "N = 3\n",
    "OP = [\n",
    "    SX_qubit(N, 0), SX_qubit(N, 1), SX_qubit(N, 2),\n",
    "    SX(N, 0), SX(N, 1), SX(N, 2),\n",
    "    ECR(N, 0, 1), ECR(N, 1, 0),\n",
    "    ECR(N, 1, 2), ECR(N, 2, 1),\n",
    "    ECR(N, 0, 2), ECR(N, 2, 0)\n",
    "]\n",
    "\n",
    "\n",
    "n = 2\n",
    "psi_f =  qt.tensor(s1, s1, s1)  # Estado final\n",
    "psi_i = qt.tensor(s0, s0, s0)  # asumí que partes de |000>\n",
    "\n",
    "\n",
    "while True:\n",
    "    theta = np.arccos(np.real(psi_i.dag() * psi_f))  # Calcula el ángulo entre los dos estados\n",
    "\n",
    "    tau = np.linspace(0, theta, n)\n",
    "    Gamma_tau = [Gamma(psi_i, psi_f, ti) for ti in tau]\n",
    "\n",
    "    Psi0 = psi_i\n",
    "    Op_real = []\n",
    "    min_distances = []\n",
    "    index_real = []\n",
    "    for i in range(len(Gamma_tau)-1):\n",
    "        Geodesic = find_min_distance(Psi0, Gamma_tau[i+1])\n",
    "        min_distances.append(Geodesic[0])\n",
    "        index_real.append(Geodesic[2])\n",
    "\n",
    "        O = Geodesic[1]\n",
    "        Op_real.append(O)\n",
    "        Psi0 = O * Psi0\n",
    "\n",
    "#    theta_final = np.arccos(np.real(Psi0.dag() * psi_f)) #oye pero esto no es una distancia como tal\n",
    "\n",
    "    theta_final = d_FS(Psi0, psi_f)\n",
    "\n",
    "    if theta_final < 1e-5:\n",
    "        break\n",
    "\n",
    "    n = n + 1\n",
    "\n",
    "print(theta_final)\n",
    "print(\"Número de pasos:\", n-1)\n",
    "\n",
    "\n"
   ]
  },
  {
   "cell_type": "code",
   "execution_count": 17,
   "id": "11efabba",
   "metadata": {},
   "outputs": [
    {
     "data": {
      "image/png": "[encoded data removed]",
      "text/plain": [
       "<Figure size 705.552x367.889 with 1 Axes>"
      ]
     },
     "execution_count": 17,
     "metadata": {},
     "output_type": "execute_result"
    }
   ],
   "source": [
    "from qiskit import QuantumCircuit\n",
    "\n",
    "# GHZ para 3 qubits\n",
    "ghz = QuantumCircuit(3, 3)\n",
    "ghz.h(0)\n",
    "ghz.cx(0, 1)\n",
    "ghz.cx(1, 2)\n",
    "ghz.barrier()\n",
    "ghz.measure([0,1,2], [0,1,2])\n",
    "ghz.draw('mpl')\n"
   ]
  },
  {
   "cell_type": "code",
   "execution_count": 19,
   "id": "55d7d0e4",
   "metadata": {},
   "outputs": [
    {
     "name": "stdout",
     "output_type": "stream",
     "text": [
      "Using backend: ibm_sherbrooke\n"
     ]
    },
    {
     "data": {
      "image/png": "[encoded data removed]",
      "text/plain": [
       "<Figure size 1779.6x367.889 with 1 Axes>"
      ]
     },
     "execution_count": 19,
     "metadata": {},
     "output_type": "execute_result"
    }
   ],
   "source": [
    "from qiskit.transpiler.preset_passmanagers import generate_preset_pass_manager\n",
    "from qiskit.transpiler import PassManager\n",
    "from qiskit import transpile\n",
    "#from qiskit.providers.fake_provider import FakeManila\n",
    "from qiskit_ibm_runtime import QiskitRuntimeService\n",
    "\n",
    "\n",
    "service = QiskitRuntimeService()\n",
    " \n",
    "backend = service.least_busy(simulator=False, operational=True)\n",
    "\n",
    "print(f'Using backend: {backend.name}')\n",
    "\n",
    "\n",
    "\n",
    "pm = generate_preset_pass_manager(backend=backend, optimization_level=3)\n",
    "isa_circuit = pm.run(ghz)\n",
    " \n",
    "isa_circuit.draw(\"mpl\", idle_wires=False)\n",
    "\n"
   ]
  },
  {
   "cell_type": "markdown",
   "id": "8e71cf60",
   "metadata": {},
   "source": [
    "Approach #2: Optimize the tangent vector:\n",
    "\n"
   ]
  },
  {
   "cell_type": "code",
   "execution_count": null,
   "id": "e211c389",
   "metadata": {},
   "outputs": [],
   "source": [
    "\n",
    "def d_FS(psi : Qobj, phi : Qobj) -> Qobj:\n",
    "    return np.sqrt( 2 - 2 * np.abs(psi.dag() * phi) ) \n",
    "\n",
    "\n",
    "def psi_dot(psi_init : Qobj, psi_final : Qobj) -> Qobj:\n",
    "    \"\"\"\n",
    "    Calcula la derivada del estado cuántico\n",
    "    \"\"\"\n",
    "    theta = np.arccos(np.real(psi_init.dag() * psi_final))\n",
    "\n",
    "    psi_t = (psi_final - np.cos(theta)*psi_init) / np.sin(theta)\n",
    "\n",
    "    return psi_t\n",
    "\n",
    "\n",
    "\n",
    "def cost_func_geodesic():\n",
    "    psi_init = qt.tensor(s0, s0)  # Estado inicial\n",
    "    psi_final = Bell2  # Estado final\n",
    "\n",
    "\n",
    "    N = 2 #numero de qubits\n",
    "    OP = [SX_qubit(N, 0), SX_qubit(N, 1), ECR(N, 0, 1), ECR(N, 1, 0), SX(N,0), SX(N,1)]\n",
    "    n = 2\n",
    "    \n",
    "    num_iter = 300\n",
    "\n",
    "    ideal_psidot = psi_dot(psi_init, psi_final)\n",
    "    \n",
    "    min_dist = 5\n",
    "    for op in OP:\n",
    "        psi_step = op * psi_init\n",
    "        \n",
    "        real_psidot = psi_dot(psi_init, psi_step)\n",
    "        dist_psidots = d_FS(ideal_psidot, real_psidot)\n",
    "        if dist_psidots < min_dist:\n",
    "            min_dist = dist_psidots\n",
    "            best_op = op\n",
    "    \n",
    "    new_psi = best_op * psi_init\n",
    "\n",
    "    \n",
    "\n",
    "\n",
    "\n",
    "    \n",
    "        "
   ]
  }
 ],
 "metadata": {
  "kernelspec": {
   "display_name": ".venv",
   "language": "python",
   "name": "python3"
  },
  "language_info": {
   "codemirror_mode": {
    "name": "ipython",
    "version": 3
   },
   "file_extension": ".py",
   "mimetype": "text/x-python",
   "name": "python",
   "nbconvert_exporter": "python",
   "pygments_lexer": "ipython3",
   "version": "3.11.9"
  }
 },
 "nbformat": 4,
 "nbformat_minor": 5
}
